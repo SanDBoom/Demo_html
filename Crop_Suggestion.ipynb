{
  "cells": [
    {
      "cell_type": "markdown",
      "metadata": {
        "id": "view-in-github",
        "colab_type": "text"
      },
      "source": [
        "<a href=\"https://colab.research.google.com/github/SanDBoom/Demo_html/blob/main/Crop_Suggestion.ipynb\" target=\"_parent\"><img src=\"https://colab.research.google.com/assets/colab-badge.svg\" alt=\"Open In Colab\"/></a>"
      ]
    },
    {
      "cell_type": "markdown",
      "metadata": {
        "id": "UcBPjRC4UxXK"
      },
      "source": [
        "# IMPORT LIBRARIES"
      ],
      "id": "UcBPjRC4UxXK"
    },
    {
      "cell_type": "code",
      "source": [
        "import os\n",
        "os.popen(\"pip install geopandas\")\n",
        "# os.popen(\"pip install neuralprophet\")\n",
        "os.popen(\"pip install keplergl\")\n",
        "os.popen(\"pip install shiny\")"
      ],
      "metadata": {
        "id": "mWx2DcNf965X",
        "colab": {
          "base_uri": "https://localhost:8080/"
        },
        "outputId": "6ce631c4-80b7-47f6-8683-23dae1768174"
      },
      "id": "mWx2DcNf965X",
      "execution_count": null,
      "outputs": [
        {
          "output_type": "execute_result",
          "data": {
            "text/plain": [
              "<os._wrap_close at 0x7f7a9ba18be0>"
            ]
          },
          "metadata": {},
          "execution_count": 129
        }
      ]
    },
    {
      "cell_type": "code",
      "execution_count": null,
      "metadata": {
        "id": "576a14a9"
      },
      "outputs": [],
      "source": [
        "import numpy as np # linear algebra\n",
        "import pandas as pd # data processing, CSV file I/O (e.g. pd.read_csv)\n",
        "import geopandas as gpd\n",
        "from shapely import wkt\n",
        "from keplergl import KeplerGl\n",
        "\n",
        "# from neuralprophet import NeuralProphet\n",
        "import matplotlib.pyplot as plt\n",
        "from datetime import datetime as d\n",
        "from dateutil.relativedelta import relativedelta\n",
        "plt.rcParams[\"figure.figsize\"] = (80,13)"
      ],
      "id": "576a14a9"
    },
    {
      "cell_type": "code",
      "execution_count": null,
      "metadata": {
        "id": "a42c4b7f"
      },
      "outputs": [],
      "source": [
        "df_crop=pd.read_csv(\"/content/cropData_Final.csv\")\n",
        "gdf_districts=pd.read_csv(\"/content/districts-map.csv\")"
      ],
      "id": "a42c4b7f"
    },
    {
      "cell_type": "code",
      "execution_count": null,
      "metadata": {
        "colab": {
          "base_uri": "https://localhost:8080/",
          "height": 112
        },
        "id": "747526dc",
        "outputId": "a785543a-2458-47fd-c0a0-38e854deb6a5"
      },
      "outputs": [
        {
          "output_type": "execute_result",
          "data": {
            "text/plain": [
              "  District_Name  Crop_Year      Season       Crop   Area  Production    T2M  \\\n",
              "0      ARIYALUR       2008  Whole Year  Cashewnut  31113       31113  27.56   \n",
              "1      ARIYALUR       2009  Whole Year  Sugarcane   6970      809944  28.45   \n",
              "\n",
              "    RH2M  PREC     PAR  \n",
              "0  73.44  3.45  103.70  \n",
              "1  68.62  2.63  104.02  "
            ],
            "text/html": [
              "\n",
              "  <div id=\"df-c3b97752-fb64-410a-a72d-02c0cfcc698e\">\n",
              "    <div class=\"colab-df-container\">\n",
              "      <div>\n",
              "<style scoped>\n",
              "    .dataframe tbody tr th:only-of-type {\n",
              "        vertical-align: middle;\n",
              "    }\n",
              "\n",
              "    .dataframe tbody tr th {\n",
              "        vertical-align: top;\n",
              "    }\n",
              "\n",
              "    .dataframe thead th {\n",
              "        text-align: right;\n",
              "    }\n",
              "</style>\n",
              "<table border=\"1\" class=\"dataframe\">\n",
              "  <thead>\n",
              "    <tr style=\"text-align: right;\">\n",
              "      <th></th>\n",
              "      <th>District_Name</th>\n",
              "      <th>Crop_Year</th>\n",
              "      <th>Season</th>\n",
              "      <th>Crop</th>\n",
              "      <th>Area</th>\n",
              "      <th>Production</th>\n",
              "      <th>T2M</th>\n",
              "      <th>RH2M</th>\n",
              "      <th>PREC</th>\n",
              "      <th>PAR</th>\n",
              "    </tr>\n",
              "  </thead>\n",
              "  <tbody>\n",
              "    <tr>\n",
              "      <th>0</th>\n",
              "      <td>ARIYALUR</td>\n",
              "      <td>2008</td>\n",
              "      <td>Whole Year</td>\n",
              "      <td>Cashewnut</td>\n",
              "      <td>31113</td>\n",
              "      <td>31113</td>\n",
              "      <td>27.56</td>\n",
              "      <td>73.44</td>\n",
              "      <td>3.45</td>\n",
              "      <td>103.70</td>\n",
              "    </tr>\n",
              "    <tr>\n",
              "      <th>1</th>\n",
              "      <td>ARIYALUR</td>\n",
              "      <td>2009</td>\n",
              "      <td>Whole Year</td>\n",
              "      <td>Sugarcane</td>\n",
              "      <td>6970</td>\n",
              "      <td>809944</td>\n",
              "      <td>28.45</td>\n",
              "      <td>68.62</td>\n",
              "      <td>2.63</td>\n",
              "      <td>104.02</td>\n",
              "    </tr>\n",
              "  </tbody>\n",
              "</table>\n",
              "</div>\n",
              "      <button class=\"colab-df-convert\" onclick=\"convertToInteractive('df-c3b97752-fb64-410a-a72d-02c0cfcc698e')\"\n",
              "              title=\"Convert this dataframe to an interactive table.\"\n",
              "              style=\"display:none;\">\n",
              "        \n",
              "  <svg xmlns=\"http://www.w3.org/2000/svg\" height=\"24px\"viewBox=\"0 0 24 24\"\n",
              "       width=\"24px\">\n",
              "    <path d=\"M0 0h24v24H0V0z\" fill=\"none\"/>\n",
              "    <path d=\"M18.56 5.44l.94 2.06.94-2.06 2.06-.94-2.06-.94-.94-2.06-.94 2.06-2.06.94zm-11 1L8.5 8.5l.94-2.06 2.06-.94-2.06-.94L8.5 2.5l-.94 2.06-2.06.94zm10 10l.94 2.06.94-2.06 2.06-.94-2.06-.94-.94-2.06-.94 2.06-2.06.94z\"/><path d=\"M17.41 7.96l-1.37-1.37c-.4-.4-.92-.59-1.43-.59-.52 0-1.04.2-1.43.59L10.3 9.45l-7.72 7.72c-.78.78-.78 2.05 0 2.83L4 21.41c.39.39.9.59 1.41.59.51 0 1.02-.2 1.41-.59l7.78-7.78 2.81-2.81c.8-.78.8-2.07 0-2.86zM5.41 20L4 18.59l7.72-7.72 1.47 1.35L5.41 20z\"/>\n",
              "  </svg>\n",
              "      </button>\n",
              "      \n",
              "  <style>\n",
              "    .colab-df-container {\n",
              "      display:flex;\n",
              "      flex-wrap:wrap;\n",
              "      gap: 12px;\n",
              "    }\n",
              "\n",
              "    .colab-df-convert {\n",
              "      background-color: #E8F0FE;\n",
              "      border: none;\n",
              "      border-radius: 50%;\n",
              "      cursor: pointer;\n",
              "      display: none;\n",
              "      fill: #1967D2;\n",
              "      height: 32px;\n",
              "      padding: 0 0 0 0;\n",
              "      width: 32px;\n",
              "    }\n",
              "\n",
              "    .colab-df-convert:hover {\n",
              "      background-color: #E2EBFA;\n",
              "      box-shadow: 0px 1px 2px rgba(60, 64, 67, 0.3), 0px 1px 3px 1px rgba(60, 64, 67, 0.15);\n",
              "      fill: #174EA6;\n",
              "    }\n",
              "\n",
              "    [theme=dark] .colab-df-convert {\n",
              "      background-color: #3B4455;\n",
              "      fill: #D2E3FC;\n",
              "    }\n",
              "\n",
              "    [theme=dark] .colab-df-convert:hover {\n",
              "      background-color: #434B5C;\n",
              "      box-shadow: 0px 1px 3px 1px rgba(0, 0, 0, 0.15);\n",
              "      filter: drop-shadow(0px 1px 2px rgba(0, 0, 0, 0.3));\n",
              "      fill: #FFFFFF;\n",
              "    }\n",
              "  </style>\n",
              "\n",
              "      <script>\n",
              "        const buttonEl =\n",
              "          document.querySelector('#df-c3b97752-fb64-410a-a72d-02c0cfcc698e button.colab-df-convert');\n",
              "        buttonEl.style.display =\n",
              "          google.colab.kernel.accessAllowed ? 'block' : 'none';\n",
              "\n",
              "        async function convertToInteractive(key) {\n",
              "          const element = document.querySelector('#df-c3b97752-fb64-410a-a72d-02c0cfcc698e');\n",
              "          const dataTable =\n",
              "            await google.colab.kernel.invokeFunction('convertToInteractive',\n",
              "                                                     [key], {});\n",
              "          if (!dataTable) return;\n",
              "\n",
              "          const docLinkHtml = 'Like what you see? Visit the ' +\n",
              "            '<a target=\"_blank\" href=https://colab.research.google.com/notebooks/data_table.ipynb>data table notebook</a>'\n",
              "            + ' to learn more about interactive tables.';\n",
              "          element.innerHTML = '';\n",
              "          dataTable['output_type'] = 'display_data';\n",
              "          await google.colab.output.renderOutput(dataTable, element);\n",
              "          const docLink = document.createElement('div');\n",
              "          docLink.innerHTML = docLinkHtml;\n",
              "          element.appendChild(docLink);\n",
              "        }\n",
              "      </script>\n",
              "    </div>\n",
              "  </div>\n",
              "  "
            ]
          },
          "metadata": {},
          "execution_count": 132
        }
      ],
      "source": [
        "df_crop.head(2)"
      ],
      "id": "747526dc"
    },
    {
      "cell_type": "code",
      "execution_count": null,
      "metadata": {
        "colab": {
          "base_uri": "https://localhost:8080/",
          "height": 112
        },
        "id": "85a9a04a",
        "outputId": "d867b1c7-bd94-4213-e02f-d0075aedb51c"
      },
      "outputs": [
        {
          "output_type": "execute_result",
          "data": {
            "text/plain": [
              "   District                                           geometry\n",
              "0  Ariyalur  POLYGON ((79.1913277494761 11.23154514549213, ...\n",
              "1   Chennai  POLYGON ((80.25292639193947 12.98035179290099,..."
            ],
            "text/html": [
              "\n",
              "  <div id=\"df-6a38d19a-0cb0-4b7c-8f05-66ea16df9709\">\n",
              "    <div class=\"colab-df-container\">\n",
              "      <div>\n",
              "<style scoped>\n",
              "    .dataframe tbody tr th:only-of-type {\n",
              "        vertical-align: middle;\n",
              "    }\n",
              "\n",
              "    .dataframe tbody tr th {\n",
              "        vertical-align: top;\n",
              "    }\n",
              "\n",
              "    .dataframe thead th {\n",
              "        text-align: right;\n",
              "    }\n",
              "</style>\n",
              "<table border=\"1\" class=\"dataframe\">\n",
              "  <thead>\n",
              "    <tr style=\"text-align: right;\">\n",
              "      <th></th>\n",
              "      <th>District</th>\n",
              "      <th>geometry</th>\n",
              "    </tr>\n",
              "  </thead>\n",
              "  <tbody>\n",
              "    <tr>\n",
              "      <th>0</th>\n",
              "      <td>Ariyalur</td>\n",
              "      <td>POLYGON ((79.1913277494761 11.23154514549213, ...</td>\n",
              "    </tr>\n",
              "    <tr>\n",
              "      <th>1</th>\n",
              "      <td>Chennai</td>\n",
              "      <td>POLYGON ((80.25292639193947 12.98035179290099,...</td>\n",
              "    </tr>\n",
              "  </tbody>\n",
              "</table>\n",
              "</div>\n",
              "      <button class=\"colab-df-convert\" onclick=\"convertToInteractive('df-6a38d19a-0cb0-4b7c-8f05-66ea16df9709')\"\n",
              "              title=\"Convert this dataframe to an interactive table.\"\n",
              "              style=\"display:none;\">\n",
              "        \n",
              "  <svg xmlns=\"http://www.w3.org/2000/svg\" height=\"24px\"viewBox=\"0 0 24 24\"\n",
              "       width=\"24px\">\n",
              "    <path d=\"M0 0h24v24H0V0z\" fill=\"none\"/>\n",
              "    <path d=\"M18.56 5.44l.94 2.06.94-2.06 2.06-.94-2.06-.94-.94-2.06-.94 2.06-2.06.94zm-11 1L8.5 8.5l.94-2.06 2.06-.94-2.06-.94L8.5 2.5l-.94 2.06-2.06.94zm10 10l.94 2.06.94-2.06 2.06-.94-2.06-.94-.94-2.06-.94 2.06-2.06.94z\"/><path d=\"M17.41 7.96l-1.37-1.37c-.4-.4-.92-.59-1.43-.59-.52 0-1.04.2-1.43.59L10.3 9.45l-7.72 7.72c-.78.78-.78 2.05 0 2.83L4 21.41c.39.39.9.59 1.41.59.51 0 1.02-.2 1.41-.59l7.78-7.78 2.81-2.81c.8-.78.8-2.07 0-2.86zM5.41 20L4 18.59l7.72-7.72 1.47 1.35L5.41 20z\"/>\n",
              "  </svg>\n",
              "      </button>\n",
              "      \n",
              "  <style>\n",
              "    .colab-df-container {\n",
              "      display:flex;\n",
              "      flex-wrap:wrap;\n",
              "      gap: 12px;\n",
              "    }\n",
              "\n",
              "    .colab-df-convert {\n",
              "      background-color: #E8F0FE;\n",
              "      border: none;\n",
              "      border-radius: 50%;\n",
              "      cursor: pointer;\n",
              "      display: none;\n",
              "      fill: #1967D2;\n",
              "      height: 32px;\n",
              "      padding: 0 0 0 0;\n",
              "      width: 32px;\n",
              "    }\n",
              "\n",
              "    .colab-df-convert:hover {\n",
              "      background-color: #E2EBFA;\n",
              "      box-shadow: 0px 1px 2px rgba(60, 64, 67, 0.3), 0px 1px 3px 1px rgba(60, 64, 67, 0.15);\n",
              "      fill: #174EA6;\n",
              "    }\n",
              "\n",
              "    [theme=dark] .colab-df-convert {\n",
              "      background-color: #3B4455;\n",
              "      fill: #D2E3FC;\n",
              "    }\n",
              "\n",
              "    [theme=dark] .colab-df-convert:hover {\n",
              "      background-color: #434B5C;\n",
              "      box-shadow: 0px 1px 3px 1px rgba(0, 0, 0, 0.15);\n",
              "      filter: drop-shadow(0px 1px 2px rgba(0, 0, 0, 0.3));\n",
              "      fill: #FFFFFF;\n",
              "    }\n",
              "  </style>\n",
              "\n",
              "      <script>\n",
              "        const buttonEl =\n",
              "          document.querySelector('#df-6a38d19a-0cb0-4b7c-8f05-66ea16df9709 button.colab-df-convert');\n",
              "        buttonEl.style.display =\n",
              "          google.colab.kernel.accessAllowed ? 'block' : 'none';\n",
              "\n",
              "        async function convertToInteractive(key) {\n",
              "          const element = document.querySelector('#df-6a38d19a-0cb0-4b7c-8f05-66ea16df9709');\n",
              "          const dataTable =\n",
              "            await google.colab.kernel.invokeFunction('convertToInteractive',\n",
              "                                                     [key], {});\n",
              "          if (!dataTable) return;\n",
              "\n",
              "          const docLinkHtml = 'Like what you see? Visit the ' +\n",
              "            '<a target=\"_blank\" href=https://colab.research.google.com/notebooks/data_table.ipynb>data table notebook</a>'\n",
              "            + ' to learn more about interactive tables.';\n",
              "          element.innerHTML = '';\n",
              "          dataTable['output_type'] = 'display_data';\n",
              "          await google.colab.output.renderOutput(dataTable, element);\n",
              "          const docLink = document.createElement('div');\n",
              "          docLink.innerHTML = docLinkHtml;\n",
              "          element.appendChild(docLink);\n",
              "        }\n",
              "      </script>\n",
              "    </div>\n",
              "  </div>\n",
              "  "
            ]
          },
          "metadata": {},
          "execution_count": 133
        }
      ],
      "source": [
        "gdf_districts.head(2)"
      ],
      "id": "85a9a04a"
    },
    {
      "cell_type": "code",
      "execution_count": null,
      "metadata": {
        "id": "e1af2a19"
      },
      "outputs": [],
      "source": [
        "gdf_districts['geometry'] = gdf_districts['geometry'].apply(wkt.loads)\n",
        "gdf_districts = gpd.GeoDataFrame(gdf_districts, geometry = 'geometry')"
      ],
      "id": "e1af2a19"
    },
    {
      "cell_type": "code",
      "execution_count": null,
      "metadata": {
        "id": "0383749d",
        "colab": {
          "base_uri": "https://localhost:8080/"
        },
        "outputId": "300b4e96-60b8-4568-adcb-5953fca378b5"
      },
      "outputs": [
        {
          "output_type": "execute_result",
          "data": {
            "text/plain": [
              "array(['ARIYALUR', 'CHENGALPATTU', 'COIMBATORE', 'CUDDALORE',\n",
              "       'DHARMAPURI', 'DINDIGUL', 'ERODE', 'KALLAKURICHI', 'KANCHEEPURAM',\n",
              "       'KANYAKUMARI', 'KARUR', 'KRISHNAGIRI', 'MADURAI', 'MAYILADUTHURAI',\n",
              "       'NAGAPATTINAM', 'NAMAKKAL', 'PERAMBALUR', 'PUDUKKOTTAI',\n",
              "       'RAMANATHAPURAM', 'RANIPET', 'SALEM', 'SIVAGANGAI', 'TENKASI',\n",
              "       'THANJAVUR', 'THE NILGIRIS', 'THENI', 'THIRUVALLUR', 'THIRUVARUR',\n",
              "       'TIRUCHIRAPPALLI', 'TIRUNELVELI', 'TIRUPATHUR', 'TIRUPPUR',\n",
              "       'TIRUVANNAMALAI', 'THOOTHUKKUDI', 'VELLORE', 'VILUPPURAM',\n",
              "       'VIRUDHUNAGAR'], dtype=object)"
            ]
          },
          "metadata": {},
          "execution_count": 135
        }
      ],
      "source": [
        "df_crop['District_Name'].unique()"
      ],
      "id": "0383749d"
    },
    {
      "cell_type": "code",
      "execution_count": null,
      "metadata": {
        "id": "740d304b",
        "colab": {
          "base_uri": "https://localhost:8080/"
        },
        "outputId": "e909e325-3803-4a34-8e8d-dd3f5d5b5d38"
      },
      "outputs": [
        {
          "output_type": "execute_result",
          "data": {
            "text/plain": [
              "array(['Ariyalur', 'Chennai', 'Coimbatore', 'Cuddalore', 'Dharmapuri',\n",
              "       'Dindigul', 'Erode', 'Kancheepuram', 'Kanniyakumari', 'Karur',\n",
              "       'Krishnagiri', 'Madurai', 'Nagapattinam', 'Namakkal', 'Perambalur',\n",
              "       'Pudukkottai', 'Ramanathapuram', 'Salem', 'Sivaganga', 'Thanjavur',\n",
              "       'The Nilgiris', 'Theni', 'Thiruvallur', 'Thiruvarur',\n",
              "       'Thoothukkudi', 'Tiruchirappalli', 'Tirunelveli', 'Tiruppur',\n",
              "       'Tiruvannamalai', 'Vellore', 'Viluppuram', 'Virudhunagar'],\n",
              "      dtype=object)"
            ]
          },
          "metadata": {},
          "execution_count": 136
        }
      ],
      "source": [
        "gdf_districts['District'].unique()"
      ],
      "id": "740d304b"
    },
    {
      "cell_type": "code",
      "execution_count": null,
      "metadata": {
        "id": "56acba25"
      },
      "outputs": [],
      "source": [
        "def caps_to_normal(district_name: str):\n",
        "    return district_name.title()\n",
        "\n",
        "df_crop['District']=df_crop['District_Name'].apply(caps_to_normal)\n",
        "gdf_districts['District']=gdf_districts['District'].apply(caps_to_normal)\n",
        "df_crop.drop(columns=['District_Name'],inplace=True)"
      ],
      "id": "56acba25"
    },
    {
      "cell_type": "markdown",
      "metadata": {
        "id": "-3LrKgqbVG9E"
      },
      "source": [
        "### *Renaming districts*"
      ],
      "id": "-3LrKgqbVG9E"
    },
    {
      "cell_type": "code",
      "execution_count": null,
      "metadata": {
        "id": "79132dd9"
      },
      "outputs": [],
      "source": [
        "def rename_districts(district_name):\n",
        "    to_rename={\n",
        "        'Thoothukkudi' : 'Thoothukudi',\n",
        "        'Tirunelveli' : 'Thirunelveli',\n",
        "        'Tiruchirappalli' : 'Trichirappalli',\n",
        "        'Pudukkottai' : 'Pudukottai',\n",
        "        'Sivaganga':'Sivagangai',\n",
        "        'Kanniyakumari':'Kanyakumari'\n",
        "    }\n",
        "    if district_name in to_rename:\n",
        "        return to_rename[district_name]\n",
        "    return district_name\n",
        "\n",
        "df_crop['District']=df_crop['District'].apply(rename_districts)\n",
        "gdf_districts['District']=gdf_districts['District'].apply(rename_districts)"
      ],
      "id": "79132dd9"
    },
    {
      "cell_type": "code",
      "execution_count": null,
      "metadata": {
        "id": "aa5700f0",
        "colab": {
          "base_uri": "https://localhost:8080/"
        },
        "outputId": "45c17564-1daf-4b68-b540-029bee979fc7"
      },
      "outputs": [
        {
          "output_type": "stream",
          "name": "stdout",
          "text": [
            "{'Ranipet', 'Chengalpattu', 'Tenkasi', 'Kallakurichi', 'Tirupathur', 'Mayiladuthurai'}\n",
            "{'Chennai'}\n"
          ]
        }
      ],
      "source": [
        "districts_one=df_crop['District'].unique()\n",
        "districts_two=gdf_districts['District'].unique()\n",
        "\n",
        "print(set(districts_one).difference(districts_two))\n",
        "print(set(districts_two).difference(districts_one))"
      ],
      "id": "aa5700f0"
    },
    {
      "cell_type": "markdown",
      "metadata": {
        "id": "3e036d12"
      },
      "source": [
        "# Visualizing crop production on given year"
      ],
      "id": "3e036d12"
    },
    {
      "cell_type": "markdown",
      "metadata": {
        "id": "1730f221"
      },
      "source": [
        "# *Rice Production on 2013*"
      ],
      "id": "1730f221"
    },
    {
      "cell_type": "code",
      "execution_count": null,
      "metadata": {
        "id": "7a12f55b"
      },
      "outputs": [],
      "source": [
        "df_crop_rice=df_crop.loc[df_crop['Crop']=='Rice']\n",
        "gdf_crop_rice_year=pd.merge(df_crop_rice,gdf_districts,on='District',how='outer')"
      ],
      "id": "7a12f55b"
    },
    {
      "cell_type": "code",
      "execution_count": null,
      "metadata": {
        "id": "0d2ae634",
        "colab": {
          "base_uri": "https://localhost:8080/",
          "height": 1000
        },
        "outputId": "2a115ff4-3ca3-4285-ff7c-6b51c5261d70"
      },
      "outputs": [
        {
          "output_type": "display_data",
          "data": {
            "text/plain": [
              "<Figure size 7000x1500 with 2 Axes>"
            ],
            "image/png": "[encoded data removed]"
          },
          "metadata": {}
        }
      ],
      "source": [
        "gpd.GeoDataFrame(gdf_crop_rice_year, geometry = 'geometry').plot(column='Production',cmap='YlGn',\n",
        "                                                                 legend=True,missing_kwds={\"color\": \"lightgrey\"},\n",
        "                                                                 legend_kwds={'label': \"Rice production\",'orientation': \"vertical\"},\n",
        "                                                                 edgecolor='k',figsize=(70, 15)).set_axis_off()"
      ],
      "id": "0d2ae634"
    },
    {
      "cell_type": "code",
      "execution_count": null,
      "metadata": {
        "colab": {
          "base_uri": "https://localhost:8080/",
          "height": 112
        },
        "id": "-0dW7C8xjO6D",
        "outputId": "c13ddaf6-2a3f-464a-fde1-ef4354717ba3"
      },
      "outputs": [
        {
          "output_type": "execute_result",
          "data": {
            "text/plain": [
              "       DISTRICT       STATE  LATITUDE  LONGITUDE\n",
              "0      Ariyalur  TAMIL NADU   11.1401    79.0786\n",
              "1  Chengalpattu  TAMIL NADU   12.6819    79.9888"
            ],
            "text/html": [
              "\n",
              "  <div id=\"df-83fa5956-6a45-4bc9-8600-cfecaf780d51\">\n",
              "    <div class=\"colab-df-container\">\n",
              "      <div>\n",
              "<style scoped>\n",
              "    .dataframe tbody tr th:only-of-type {\n",
              "        vertical-align: middle;\n",
              "    }\n",
              "\n",
              "    .dataframe tbody tr th {\n",
              "        vertical-align: top;\n",
              "    }\n",
              "\n",
              "    .dataframe thead th {\n",
              "        text-align: right;\n",
              "    }\n",
              "</style>\n",
              "<table border=\"1\" class=\"dataframe\">\n",
              "  <thead>\n",
              "    <tr style=\"text-align: right;\">\n",
              "      <th></th>\n",
              "      <th>DISTRICT</th>\n",
              "      <th>STATE</th>\n",
              "      <th>LATITUDE</th>\n",
              "      <th>LONGITUDE</th>\n",
              "    </tr>\n",
              "  </thead>\n",
              "  <tbody>\n",
              "    <tr>\n",
              "      <th>0</th>\n",
              "      <td>Ariyalur</td>\n",
              "      <td>TAMIL NADU</td>\n",
              "      <td>11.1401</td>\n",
              "      <td>79.0786</td>\n",
              "    </tr>\n",
              "    <tr>\n",
              "      <th>1</th>\n",
              "      <td>Chengalpattu</td>\n",
              "      <td>TAMIL NADU</td>\n",
              "      <td>12.6819</td>\n",
              "      <td>79.9888</td>\n",
              "    </tr>\n",
              "  </tbody>\n",
              "</table>\n",
              "</div>\n",
              "      <button class=\"colab-df-convert\" onclick=\"convertToInteractive('df-83fa5956-6a45-4bc9-8600-cfecaf780d51')\"\n",
              "              title=\"Convert this dataframe to an interactive table.\"\n",
              "              style=\"display:none;\">\n",
              "        \n",
              "  <svg xmlns=\"http://www.w3.org/2000/svg\" height=\"24px\"viewBox=\"0 0 24 24\"\n",
              "       width=\"24px\">\n",
              "    <path d=\"M0 0h24v24H0V0z\" fill=\"none\"/>\n",
              "    <path d=\"M18.56 5.44l.94 2.06.94-2.06 2.06-.94-2.06-.94-.94-2.06-.94 2.06-2.06.94zm-11 1L8.5 8.5l.94-2.06 2.06-.94-2.06-.94L8.5 2.5l-.94 2.06-2.06.94zm10 10l.94 2.06.94-2.06 2.06-.94-2.06-.94-.94-2.06-.94 2.06-2.06.94z\"/><path d=\"M17.41 7.96l-1.37-1.37c-.4-.4-.92-.59-1.43-.59-.52 0-1.04.2-1.43.59L10.3 9.45l-7.72 7.72c-.78.78-.78 2.05 0 2.83L4 21.41c.39.39.9.59 1.41.59.51 0 1.02-.2 1.41-.59l7.78-7.78 2.81-2.81c.8-.78.8-2.07 0-2.86zM5.41 20L4 18.59l7.72-7.72 1.47 1.35L5.41 20z\"/>\n",
              "  </svg>\n",
              "      </button>\n",
              "      \n",
              "  <style>\n",
              "    .colab-df-container {\n",
              "      display:flex;\n",
              "      flex-wrap:wrap;\n",
              "      gap: 12px;\n",
              "    }\n",
              "\n",
              "    .colab-df-convert {\n",
              "      background-color: #E8F0FE;\n",
              "      border: none;\n",
              "      border-radius: 50%;\n",
              "      cursor: pointer;\n",
              "      display: none;\n",
              "      fill: #1967D2;\n",
              "      height: 32px;\n",
              "      padding: 0 0 0 0;\n",
              "      width: 32px;\n",
              "    }\n",
              "\n",
              "    .colab-df-convert:hover {\n",
              "      background-color: #E2EBFA;\n",
              "      box-shadow: 0px 1px 2px rgba(60, 64, 67, 0.3), 0px 1px 3px 1px rgba(60, 64, 67, 0.15);\n",
              "      fill: #174EA6;\n",
              "    }\n",
              "\n",
              "    [theme=dark] .colab-df-convert {\n",
              "      background-color: #3B4455;\n",
              "      fill: #D2E3FC;\n",
              "    }\n",
              "\n",
              "    [theme=dark] .colab-df-convert:hover {\n",
              "      background-color: #434B5C;\n",
              "      box-shadow: 0px 1px 3px 1px rgba(0, 0, 0, 0.15);\n",
              "      filter: drop-shadow(0px 1px 2px rgba(0, 0, 0, 0.3));\n",
              "      fill: #FFFFFF;\n",
              "    }\n",
              "  </style>\n",
              "\n",
              "      <script>\n",
              "        const buttonEl =\n",
              "          document.querySelector('#df-83fa5956-6a45-4bc9-8600-cfecaf780d51 button.colab-df-convert');\n",
              "        buttonEl.style.display =\n",
              "          google.colab.kernel.accessAllowed ? 'block' : 'none';\n",
              "\n",
              "        async function convertToInteractive(key) {\n",
              "          const element = document.querySelector('#df-83fa5956-6a45-4bc9-8600-cfecaf780d51');\n",
              "          const dataTable =\n",
              "            await google.colab.kernel.invokeFunction('convertToInteractive',\n",
              "                                                     [key], {});\n",
              "          if (!dataTable) return;\n",
              "\n",
              "          const docLinkHtml = 'Like what you see? Visit the ' +\n",
              "            '<a target=\"_blank\" href=https://colab.research.google.com/notebooks/data_table.ipynb>data table notebook</a>'\n",
              "            + ' to learn more about interactive tables.';\n",
              "          element.innerHTML = '';\n",
              "          dataTable['output_type'] = 'display_data';\n",
              "          await google.colab.output.renderOutput(dataTable, element);\n",
              "          const docLink = document.createElement('div');\n",
              "          docLink.innerHTML = docLinkHtml;\n",
              "          element.appendChild(docLink);\n",
              "        }\n",
              "      </script>\n",
              "    </div>\n",
              "  </div>\n",
              "  "
            ]
          },
          "metadata": {},
          "execution_count": 35
        }
      ],
      "source": [
        "loc_data = pd.read_csv('/content/TN_District_Lat_Lon.csv')\n",
        "loc_data.head(2)"
      ],
      "id": "-0dW7C8xjO6D"
    },
    {
      "cell_type": "code",
      "source": [
        "from google.colab import output\n",
        "output.enable_custom_widget_manager()\n",
        "# from google.colab import output\n",
        "# output.disable_custom_widget_manager()"
      ],
      "metadata": {
        "id": "rvWCsY-vCCfj"
      },
      "id": "rvWCsY-vCCfj",
      "execution_count": null,
      "outputs": []
    },
    {
      "cell_type": "code",
      "source": [
        "map = KeplerGl(height=600, width=800)\n",
        "map"
      ],
      "metadata": {
        "id": "mcmpvZ1rB1SS"
      },
      "id": "mcmpvZ1rB1SS",
      "execution_count": null,
      "outputs": []
    },
    {
      "cell_type": "code",
      "execution_count": null,
      "metadata": {
        "id": "j3BRnRcpkrVw"
      },
      "outputs": [],
      "source": [
        "# for i in range(len(loc_data)):\n",
        "#   !curl -X GET \"https://power.larc.nasa.gov/api/temporal/monthly/point?start=2001&end=2013&latitude={loc_data.LATITUDE[i]}&longitude={loc_data.LONGITUDE[i]}&community=ag&parameters=ALLSKY_SFC_PAR_TOT%2CPRECTOTCORR%2CRH2M%2CT2M&format=csv&header=false&time-standard=lst\" -H \"accept: application/json\" > \"/content/{loc_data.DISTRICT[i]}.csv\""
      ],
      "id": "j3BRnRcpkrVw"
    },
    {
      "cell_type": "code",
      "execution_count": null,
      "metadata": {
        "id": "nCa1HzBCxwld"
      },
      "outputs": [],
      "source": [
        "# !zip -r /content/Parameter.zip /content/Parameter\n",
        "# from google.colab import files\n",
        "# files.download(\"/content/Parameter.zip\")"
      ],
      "id": "nCa1HzBCxwld"
    },
    {
      "cell_type": "code",
      "execution_count": null,
      "metadata": {
        "id": "7mlozqwBLxk-"
      },
      "outputs": [],
      "source": [
        "from sklearn.tree import DecisionTreeClassifier\n",
        "import xgboost as xgb\n",
        "from sklearn.model_selection import train_test_split, GridSearchCV\n",
        "from sklearn.metrics import accuracy_score\n",
        "from sklearn import preprocessing\n",
        "from imblearn.over_sampling import RandomOverSampler\n",
        "import pandas as pd\n",
        "from datetime import datetime\n",
        "import random\n",
        "import json"
      ],
      "id": "7mlozqwBLxk-"
    },
    {
      "cell_type": "code",
      "execution_count": null,
      "metadata": {
        "id": "9H2S3HNjSxek"
      },
      "outputs": [],
      "source": [
        "# Load the dataset\n",
        "data = pd.read_csv('/content/cropData_Final.csv')\n",
        "# data = pd.read_csv('/content/cropData.csv')"
      ],
      "id": "9H2S3HNjSxek"
    },
    {
      "cell_type": "markdown",
      "metadata": {
        "id": "L6aitpXXVfm1"
      },
      "source": [
        "###Label encoding\n"
      ],
      "id": "L6aitpXXVfm1"
    },
    {
      "cell_type": "code",
      "execution_count": null,
      "metadata": {
        "id": "0fIBuRMENm8s"
      },
      "outputs": [],
      "source": [
        "le1 = preprocessing.LabelEncoder()\n",
        "le2 = preprocessing.LabelEncoder()\n",
        "le3 = preprocessing.LabelEncoder()\n",
        "\n",
        "#le1.fit(data['Season'])\n",
        "#list(le1.classes_)\n",
        "data['Season'] = le1.fit_transform(data['Season'])\n",
        "list(le1.classes_)\n",
        "# data['Season'] = pd.DataFrame([101 if i else 100 for i in data['Season']])\n",
        "\n",
        "data['District_Name']=le2.fit_transform(data['District_Name'])\n",
        "list(le2.classes_)\n",
        "\n",
        "data['Crop'] = le3.fit_transform(data['Crop'])\n",
        "list(le3.classes_)\n",
        "\n",
        "data.dropna(inplace=True)\n",
        "\n",
        "oversampler = RandomOverSampler(random_state=42)\n",
        "X_resampled, y_resampled = oversampler.fit_resample(data.drop('Crop', axis=1), data['Crop'])\n",
        "\n",
        "# Split the dataset into training and testing sets\n",
        "X_train, X_test, y_train, y_test = train_test_split(X_resampled, y_resampled, test_size=0.2, random_state=42)"
      ],
      "id": "0fIBuRMENm8s"
    },
    {
      "cell_type": "code",
      "execution_count": null,
      "metadata": {
        "colab": {
          "base_uri": "https://localhost:8080/",
          "height": 206
        },
        "id": "d46Q2mwIUbA0",
        "outputId": "d35637a3-fd48-4f96-89e6-15ef121d6f4a"
      },
      "outputs": [
        {
          "output_type": "execute_result",
          "data": {
            "text/plain": [
              "   District_Name  Crop_Year  Season  Crop   Area  Production    T2M   RH2M  \\\n",
              "0              0       2008       1     2  31113       31113  27.56  73.44   \n",
              "1              0       2009       1     7   6970      809944  28.45  68.62   \n",
              "2              0       2010       1     7   7500      739006  27.98  73.69   \n",
              "3              0       2011       1     3    323     2600000  27.92  71.38   \n",
              "4              0       2012       1     7   7804      707584  28.23  70.06   \n",
              "\n",
              "   PREC     PAR  \n",
              "0  3.45  103.70  \n",
              "1  2.63  104.02  \n",
              "2  3.50   99.88  \n",
              "3  2.79  104.11  \n",
              "4  2.35  104.76  "
            ],
            "text/html": [
              "\n",
              "  <div id=\"df-328143cd-013d-4622-a083-578665f30a44\">\n",
              "    <div class=\"colab-df-container\">\n",
              "      <div>\n",
              "<style scoped>\n",
              "    .dataframe tbody tr th:only-of-type {\n",
              "        vertical-align: middle;\n",
              "    }\n",
              "\n",
              "    .dataframe tbody tr th {\n",
              "        vertical-align: top;\n",
              "    }\n",
              "\n",
              "    .dataframe thead th {\n",
              "        text-align: right;\n",
              "    }\n",
              "</style>\n",
              "<table border=\"1\" class=\"dataframe\">\n",
              "  <thead>\n",
              "    <tr style=\"text-align: right;\">\n",
              "      <th></th>\n",
              "      <th>District_Name</th>\n",
              "      <th>Crop_Year</th>\n",
              "      <th>Season</th>\n",
              "      <th>Crop</th>\n",
              "      <th>Area</th>\n",
              "      <th>Production</th>\n",
              "      <th>T2M</th>\n",
              "      <th>RH2M</th>\n",
              "      <th>PREC</th>\n",
              "      <th>PAR</th>\n",
              "    </tr>\n",
              "  </thead>\n",
              "  <tbody>\n",
              "    <tr>\n",
              "      <th>0</th>\n",
              "      <td>0</td>\n",
              "      <td>2008</td>\n",
              "      <td>1</td>\n",
              "      <td>2</td>\n",
              "      <td>31113</td>\n",
              "      <td>31113</td>\n",
              "      <td>27.56</td>\n",
              "      <td>73.44</td>\n",
              "      <td>3.45</td>\n",
              "      <td>103.70</td>\n",
              "    </tr>\n",
              "    <tr>\n",
              "      <th>1</th>\n",
              "      <td>0</td>\n",
              "      <td>2009</td>\n",
              "      <td>1</td>\n",
              "      <td>7</td>\n",
              "      <td>6970</td>\n",
              "      <td>809944</td>\n",
              "      <td>28.45</td>\n",
              "      <td>68.62</td>\n",
              "      <td>2.63</td>\n",
              "      <td>104.02</td>\n",
              "    </tr>\n",
              "    <tr>\n",
              "      <th>2</th>\n",
              "      <td>0</td>\n",
              "      <td>2010</td>\n",
              "      <td>1</td>\n",
              "      <td>7</td>\n",
              "      <td>7500</td>\n",
              "      <td>739006</td>\n",
              "      <td>27.98</td>\n",
              "      <td>73.69</td>\n",
              "      <td>3.50</td>\n",
              "      <td>99.88</td>\n",
              "    </tr>\n",
              "    <tr>\n",
              "      <th>3</th>\n",
              "      <td>0</td>\n",
              "      <td>2011</td>\n",
              "      <td>1</td>\n",
              "      <td>3</td>\n",
              "      <td>323</td>\n",
              "      <td>2600000</td>\n",
              "      <td>27.92</td>\n",
              "      <td>71.38</td>\n",
              "      <td>2.79</td>\n",
              "      <td>104.11</td>\n",
              "    </tr>\n",
              "    <tr>\n",
              "      <th>4</th>\n",
              "      <td>0</td>\n",
              "      <td>2012</td>\n",
              "      <td>1</td>\n",
              "      <td>7</td>\n",
              "      <td>7804</td>\n",
              "      <td>707584</td>\n",
              "      <td>28.23</td>\n",
              "      <td>70.06</td>\n",
              "      <td>2.35</td>\n",
              "      <td>104.76</td>\n",
              "    </tr>\n",
              "  </tbody>\n",
              "</table>\n",
              "</div>\n",
              "      <button class=\"colab-df-convert\" onclick=\"convertToInteractive('df-328143cd-013d-4622-a083-578665f30a44')\"\n",
              "              title=\"Convert this dataframe to an interactive table.\"\n",
              "              style=\"display:none;\">\n",
              "        \n",
              "  <svg xmlns=\"http://www.w3.org/2000/svg\" height=\"24px\"viewBox=\"0 0 24 24\"\n",
              "       width=\"24px\">\n",
              "    <path d=\"M0 0h24v24H0V0z\" fill=\"none\"/>\n",
              "    <path d=\"M18.56 5.44l.94 2.06.94-2.06 2.06-.94-2.06-.94-.94-2.06-.94 2.06-2.06.94zm-11 1L8.5 8.5l.94-2.06 2.06-.94-2.06-.94L8.5 2.5l-.94 2.06-2.06.94zm10 10l.94 2.06.94-2.06 2.06-.94-2.06-.94-.94-2.06-.94 2.06-2.06.94z\"/><path d=\"M17.41 7.96l-1.37-1.37c-.4-.4-.92-.59-1.43-.59-.52 0-1.04.2-1.43.59L10.3 9.45l-7.72 7.72c-.78.78-.78 2.05 0 2.83L4 21.41c.39.39.9.59 1.41.59.51 0 1.02-.2 1.41-.59l7.78-7.78 2.81-2.81c.8-.78.8-2.07 0-2.86zM5.41 20L4 18.59l7.72-7.72 1.47 1.35L5.41 20z\"/>\n",
              "  </svg>\n",
              "      </button>\n",
              "      \n",
              "  <style>\n",
              "    .colab-df-container {\n",
              "      display:flex;\n",
              "      flex-wrap:wrap;\n",
              "      gap: 12px;\n",
              "    }\n",
              "\n",
              "    .colab-df-convert {\n",
              "      background-color: #E8F0FE;\n",
              "      border: none;\n",
              "      border-radius: 50%;\n",
              "      cursor: pointer;\n",
              "      display: none;\n",
              "      fill: #1967D2;\n",
              "      height: 32px;\n",
              "      padding: 0 0 0 0;\n",
              "      width: 32px;\n",
              "    }\n",
              "\n",
              "    .colab-df-convert:hover {\n",
              "      background-color: #E2EBFA;\n",
              "      box-shadow: 0px 1px 2px rgba(60, 64, 67, 0.3), 0px 1px 3px 1px rgba(60, 64, 67, 0.15);\n",
              "      fill: #174EA6;\n",
              "    }\n",
              "\n",
              "    [theme=dark] .colab-df-convert {\n",
              "      background-color: #3B4455;\n",
              "      fill: #D2E3FC;\n",
              "    }\n",
              "\n",
              "    [theme=dark] .colab-df-convert:hover {\n",
              "      background-color: #434B5C;\n",
              "      box-shadow: 0px 1px 3px 1px rgba(0, 0, 0, 0.15);\n",
              "      filter: drop-shadow(0px 1px 2px rgba(0, 0, 0, 0.3));\n",
              "      fill: #FFFFFF;\n",
              "    }\n",
              "  </style>\n",
              "\n",
              "      <script>\n",
              "        const buttonEl =\n",
              "          document.querySelector('#df-328143cd-013d-4622-a083-578665f30a44 button.colab-df-convert');\n",
              "        buttonEl.style.display =\n",
              "          google.colab.kernel.accessAllowed ? 'block' : 'none';\n",
              "\n",
              "        async function convertToInteractive(key) {\n",
              "          const element = document.querySelector('#df-328143cd-013d-4622-a083-578665f30a44');\n",
              "          const dataTable =\n",
              "            await google.colab.kernel.invokeFunction('convertToInteractive',\n",
              "                                                     [key], {});\n",
              "          if (!dataTable) return;\n",
              "\n",
              "          const docLinkHtml = 'Like what you see? Visit the ' +\n",
              "            '<a target=\"_blank\" href=https://colab.research.google.com/notebooks/data_table.ipynb>data table notebook</a>'\n",
              "            + ' to learn more about interactive tables.';\n",
              "          element.innerHTML = '';\n",
              "          dataTable['output_type'] = 'display_data';\n",
              "          await google.colab.output.renderOutput(dataTable, element);\n",
              "          const docLink = document.createElement('div');\n",
              "          docLink.innerHTML = docLinkHtml;\n",
              "          element.appendChild(docLink);\n",
              "        }\n",
              "      </script>\n",
              "    </div>\n",
              "  </div>\n",
              "  "
            ]
          },
          "metadata": {},
          "execution_count": 41
        }
      ],
      "source": [
        "data.head()"
      ],
      "id": "d46Q2mwIUbA0"
    },
    {
      "cell_type": "markdown",
      "metadata": {
        "id": "VzJh7ERtVlPe"
      },
      "source": [
        "### C4.5 *ALGORITHM*"
      ],
      "id": "VzJh7ERtVlPe"
    },
    {
      "cell_type": "code",
      "execution_count": null,
      "metadata": {
        "colab": {
          "base_uri": "https://localhost:8080/"
        },
        "id": "IiUqRI3z5OoA",
        "outputId": "357d4db4-76da-4bcb-ade1-6e5cdf11c17f"
      },
      "outputs": [
        {
          "output_type": "stream",
          "name": "stdout",
          "text": [
            "Accuracy :  0.9839857651245552\n"
          ]
        }
      ],
      "source": [
        "# Create a decision tree classifier using the C4.5 algorithm\n",
        "clf = DecisionTreeClassifier(criterion='entropy') #hyperparameter tuning\n",
        "\n",
        "# Train the classifier on the training data\n",
        "clf.fit(X_train, y_train)\n",
        "\n",
        "# Make predictions on the testing data\n",
        "y_pred = clf.predict(X_test)\n",
        "\n",
        "# Evaluate the accuracy of the model\n",
        "accuracy = accuracy_score(y_test, y_pred)\n",
        "print(\"Accuracy : \", accuracy)"
      ],
      "id": "IiUqRI3z5OoA"
    },
    {
      "cell_type": "markdown",
      "metadata": {
        "id": "pCHlO3O9YbkB"
      },
      "source": [
        "# XGBoost"
      ],
      "id": "pCHlO3O9YbkB"
    },
    {
      "cell_type": "markdown",
      "metadata": {
        "id": "FPmMDMouV2L7"
      },
      "source": [
        "### XGBoost Hyper parameter Tuning"
      ],
      "id": "FPmMDMouV2L7"
    },
    {
      "cell_type": "code",
      "execution_count": null,
      "metadata": {
        "colab": {
          "base_uri": "https://localhost:8080/"
        },
        "id": "r4t6Jqclxdxi",
        "outputId": "e2739b6e-cec2-4d40-ecc9-d5d218261115"
      },
      "outputs": [
        {
          "output_type": "stream",
          "name": "stdout",
          "text": [
            "Best Model Parameter: {'colsample_bytree': 0.8, 'eta': 0.3, 'gamma': 0, 'max_depth': 5, 'subsample': 0.8}\n",
            "Best Model: XGBClassifier(base_score=None, booster=None, callbacks=None,\n",
            "              colsample_bylevel=None, colsample_bynode=None,\n",
            "              colsample_bytree=0.8, early_stopping_rounds=None,\n",
            "              enable_categorical=False, eta=0.3, eval_metric=None,\n",
            "              feature_types=None, gamma=0, gpu_id=None, grow_policy=None,\n",
            "              importance_type=None, interaction_constraints=None,\n",
            "              learning_rate=None, max_bin=None, max_cat_threshold=None,\n",
            "              max_cat_to_onehot=None, max_delta_step=None, max_depth=5,\n",
            "              max_leaves=None, min_child_weight=None, missing=nan,\n",
            "              monotone_constraints=None, n_estimators=100, n_jobs=None,\n",
            "              num_class=10, num_parallel_tree=None, ...)\n",
            "Best Model Accuracy: 0.99644128113879\n"
          ]
        }
      ],
      "source": [
        "# Convert the training and testing data to DMatrix format for XGBoost\n",
        "dtrain = xgb.DMatrix(X_train, label=y_train)\n",
        "dtest = xgb.DMatrix(X_test, label=y_test)\n",
        "\n",
        "# Set the initial parameters for XGBoost\n",
        "params = {\n",
        "    'objective': 'multi:softmax',  # Multiclass classification objective\n",
        "    'num_class': len(data['Crop'].unique()),  # Number of classes\n",
        "    'seed': 42,  # Random seed for reproducibility\n",
        "}\n",
        "\n",
        "# Perform hyperparameter tuning using GridSearchCV\n",
        "param_grid = {\n",
        "    'max_depth': [3, 4, 5],\n",
        "    'eta': [0.1, 0.2, 0.3],\n",
        "    'gamma': [0, 0.1, 0.2],\n",
        "    'subsample': [0.8, 1.0],\n",
        "    'colsample_bytree': [0.8, 1.0]\n",
        "}\n",
        "\n",
        "xgb_model = xgb.XGBClassifier(**params)\n",
        "\n",
        "grid_search = GridSearchCV(\n",
        "    estimator = xgb_model,\n",
        "    param_grid = param_grid,\n",
        "    scoring = 'accuracy',\n",
        "    cv=3,\n",
        "    n_jobs=-1\n",
        ")\n",
        "\n",
        "grid_search.fit(X_train, y_train)\n",
        "\n",
        "# Get the best parameters and the best model\n",
        "best_params = grid_search.best_params_\n",
        "best_model = grid_search.best_estimator_\n",
        "\n",
        "print(f\"Best Model Parameter: {best_params}\")\n",
        "print(f\"Best Model: {best_model}\")\n",
        "\n",
        "# Make predictions on the test set using the best model\n",
        "y_pred = best_model.predict(X_test)\n",
        "\n",
        "# Evaluate the accuracy of the best model\n",
        "accuracy = accuracy_score(y_test, y_pred)\n",
        "print(f\"Best Model Accuracy: {accuracy}\")"
      ],
      "id": "r4t6Jqclxdxi"
    },
    {
      "cell_type": "markdown",
      "metadata": {
        "id": "-ZhPR7ITWr_6"
      },
      "source": [
        "### XGBoost algorithm"
      ],
      "id": "-ZhPR7ITWr_6"
    },
    {
      "cell_type": "code",
      "execution_count": null,
      "metadata": {
        "colab": {
          "base_uri": "https://localhost:8080/"
        },
        "id": "ouVnMwA5dzQj",
        "outputId": "786b3ab4-fb51-44ce-cd04-6131b9961919"
      },
      "outputs": [
        {
          "output_type": "stream",
          "name": "stdout",
          "text": [
            "Accuracy: 0.994661921708185\n"
          ]
        }
      ],
      "source": [
        "# Convert the training and testing data to DMatrix format for XGBoost\n",
        "dtrain = xgb.DMatrix(X_train, label=y_train)\n",
        "dtest = xgb.DMatrix(X_test, label=y_test)\n",
        "\n",
        "# Set the parameters for XGBoost\n",
        "params = {\n",
        "    'objective': 'multi:softmax',  # Multiclass classification objective\n",
        "    'num_class': len(data['Crop'].unique()),  # Number of classes\n",
        "    'max_depth': 4,  # Maximum tree depth\n",
        "    'eta': 0.3,  # Learning rate\n",
        "    'seed': 42,  # Random seed for reproducibility\n",
        "}\n",
        "\n",
        "# Train the XGBoost model\n",
        "num_rounds = 100  # Number of boosting rounds\n",
        "model = xgb.train(params, dtrain, num_rounds)\n",
        "\n",
        "# Make predictions on the test set\n",
        "y_pred = model.predict(dtest)\n",
        "\n",
        "# Evaluate the accuracy of the model\n",
        "accuracy = accuracy_score(y_test, y_pred)\n",
        "print(f\"Accuracy: {accuracy}\")"
      ],
      "id": "ouVnMwA5dzQj"
    },
    {
      "cell_type": "code",
      "execution_count": null,
      "metadata": {
        "colab": {
          "base_uri": "https://localhost:8080/"
        },
        "id": "5YfPh7RiUSXV",
        "outputId": "14110652-b8c6-4e86-fcfd-31abb86bde90"
      },
      "outputs": [
        {
          "output_type": "execute_result",
          "data": {
            "text/plain": [
              "array([2, 7, 7, 3, 7])"
            ]
          },
          "metadata": {},
          "execution_count": 45
        }
      ],
      "source": [
        "clf.predict(data.head().drop('Crop', axis=1))"
      ],
      "id": "5YfPh7RiUSXV"
    },
    {
      "cell_type": "code",
      "execution_count": null,
      "metadata": {
        "id": "NAtmnSrgeOwt",
        "colab": {
          "base_uri": "https://localhost:8080/"
        },
        "outputId": "ec305430-ae93-4318-f0bc-ac8ad5e1e11f"
      },
      "outputs": [
        {
          "output_type": "execute_result",
          "data": {
            "text/plain": [
              "array([2, 7, 7, 3, 7], dtype=int32)"
            ]
          },
          "metadata": {},
          "execution_count": 46
        }
      ],
      "source": [
        "best_model.predict(data.head().drop('Crop', axis=1))"
      ],
      "id": "NAtmnSrgeOwt"
    },
    {
      "cell_type": "code",
      "execution_count": null,
      "metadata": {
        "colab": {
          "base_uri": "https://localhost:8080/"
        },
        "id": "C8Da9kzrRI1e",
        "outputId": "460c00c3-cd15-445d-daeb-76f8c3f73dbc"
      },
      "outputs": [
        {
          "output_type": "execute_result",
          "data": {
            "text/plain": [
              "array(['Ariyalur', 'Chengalpattu', 'Coimbatore', 'Cuddalore',\n",
              "       'Dharmapuri', 'Dindigul', 'Erode', 'Kallakurichi', 'Kancheepuram',\n",
              "       'Kanyakumari', 'Karur', 'Krishnagiri', 'Madurai', 'Mayiladuthurai',\n",
              "       'Nagapattinam', 'Namakkal', 'Perambalur', 'Pudukottai',\n",
              "       'Ramanathapuram', 'Ranipet', 'Salem', 'Sivagangai', 'Tenkasi',\n",
              "       'Thanjavur', 'The Nilgiris', 'Theni', 'Thiruvallur', 'Thiruvarur',\n",
              "       'Trichirappalli', 'Thirunelveli', 'Tirupathur', 'Tiruppur',\n",
              "       'Tiruvannamalai', 'Thoothukudi', 'Vellore', 'Viluppuram',\n",
              "       'Virudhunagar'], dtype=object)"
            ]
          },
          "metadata": {},
          "execution_count": 47
        }
      ],
      "source": [
        "df_crop['District'].unique()"
      ],
      "id": "C8Da9kzrRI1e"
    },
    {
      "cell_type": "code",
      "execution_count": null,
      "metadata": {
        "colab": {
          "base_uri": "https://localhost:8080/"
        },
        "id": "rVfb0mFjZbdw",
        "outputId": "85eb7304-370b-4442-db44-1b32835cddcd"
      },
      "outputs": [
        {
          "output_type": "execute_result",
          "data": {
            "text/plain": [
              "array([ 0,  1,  2,  3,  4,  5,  6,  7,  8,  9, 10, 11, 12, 13, 14, 15, 16,\n",
              "       17, 18, 19, 20, 21, 22, 23, 24, 25, 26, 27, 29, 30, 31, 32, 33, 28,\n",
              "       34, 35, 36])"
            ]
          },
          "metadata": {},
          "execution_count": 48
        }
      ],
      "source": [
        "data['District_Name'].unique()"
      ],
      "id": "rVfb0mFjZbdw"
    },
    {
      "cell_type": "code",
      "execution_count": null,
      "metadata": {
        "colab": {
          "base_uri": "https://localhost:8080/"
        },
        "id": "L0TvzspE_lu7",
        "outputId": "d68dfe78-5585-449a-aa1b-d3ebc250b720"
      },
      "outputs": [
        {
          "output_type": "stream",
          "name": "stdout",
          "text": [
            "2023-06-23\n",
            "2024-06-23\n"
          ]
        }
      ],
      "source": [
        "def dateAfterMonths (months):\n",
        "  return d.date(d.today()) + relativedelta(months=+months)\n",
        "\n",
        "def month_to_season(months):\n",
        "  if dateAfterMonths(months).month in [5,6,7]:\n",
        "    return 0\n",
        "  else:\n",
        "    return 1\n",
        "\n",
        "print(dateAfterMonths(0))\n",
        "print(dateAfterMonths(12))"
      ],
      "id": "L0TvzspE_lu7"
    },
    {
      "cell_type": "code",
      "execution_count": null,
      "metadata": {
        "id": "4SNRkG5soitE",
        "colab": {
          "base_uri": "https://localhost:8080/"
        },
        "outputId": "365a9a64-9dde-4383-b94b-9fdba05488e9"
      },
      "outputs": [
        {
          "output_type": "execute_result",
          "data": {
            "text/plain": [
              "[34.0, 57, 0.0, 1297.9]"
            ]
          },
          "metadata": {},
          "execution_count": 173
        }
      ],
      "source": [
        "tod_wea = os.popen(f'curl -X GET \"https://api.open-meteo.com/v1/forecast?latitude=13.04&longitude=80.20&hourly=temperature_2m,relativehumidity_2m,precipitation,terrestrial_radiation_instant\" -H \"accect:application/json\"').read()\n",
        "tod_wea = json.loads(tod_wea)\n",
        "[tod_wea['hourly'][i][7] for i in tod_wea['hourly'].keys()][1:]"
      ],
      "id": "4SNRkG5soitE"
    },
    {
      "cell_type": "code",
      "execution_count": null,
      "metadata": {
        "id": "SB2XvByB4taP",
        "colab": {
          "base_uri": "https://localhost:8080/"
        },
        "outputId": "6fa9a24a-0e39-44c3-b39b-de7c72631a8f"
      },
      "outputs": [
        {
          "output_type": "execute_result",
          "data": {
            "text/plain": [
              "[17.5, 19.2, 71, 0.16]"
            ]
          },
          "metadata": {},
          "execution_count": 174
        }
      ],
      "source": [
        "wea = os.popen(f'curl -X GET \"https://climate-api.open-meteo.com/v1/climate?latitude=52.52&longitude=13.41&start_date=2023-06-22&end_date=2024-06-22&daily=temperature_2m_mean,shortwave_radiation_sum,relative_humidity_2m_mean,precipitation_sum&models=FGOALS_f3_H&min=2023-06-22&max=2023-09-22\" -H \"accect:application/json\"').read()\n",
        "wea = json.loads(wea)\n",
        "[wea['daily'][i][wea['daily']['time'].index(str(dateAfterMonths(0)))] for i in wea['daily'].keys()][1:]"
      ],
      "id": "SB2XvByB4taP"
    },
    {
      "cell_type": "code",
      "execution_count": null,
      "metadata": {
        "id": "8BTV6Jb7CVic"
      },
      "outputs": [],
      "source": [
        "def getParam (months):\n",
        "  new = pd.DataFrame()\n",
        "  new['District_Name'] = df_crop['District'].unique()\n",
        "  new['Crop_Year'] = pd.DataFrame([dateAfterMonths(months).year for i in new['District_Name']])\n",
        "  new['Season'] = pd.DataFrame([month_to_season(months) for i in new['District_Name']])\n",
        "  new['Area'] = pd.DataFrame([random.choice(data['Area']) for i in new['District_Name']])\n",
        "  new['Production'] = pd.DataFrame([random.choice(data['Production']) for i in new['District_Name']])\n",
        "  new_param = list()\n",
        "  for i in df_crop['District'].unique():\n",
        "    index = list(loc_data['DISTRICT']).index(i)\n",
        "    wea = os.popen(f'curl -X GET \"https://climate-api.open-meteo.com/v1/climate?latitude={loc_data.LATITUDE[index]}&longitude={loc_data.LONGITUDE[index]}&start_date=2023-06-22&end_date=2024-06-22&daily=temperature_2m_mean,shortwave_radiation_sum,relative_humidity_2m_mean,precipitation_sum&models=FGOALS_f3_H&min={str(dateAfterMonths(0))}&max={str(dateAfterMonths(months))}\" -H \"accect:application/json\"').read()\n",
        "    wea = json.loads(wea)\n",
        "    new_param.append([wea['daily'][i][wea['daily']['time'].index(str(dateAfterMonths(0)))] for i in wea['daily'].keys()][1:])\n",
        "  new_param = pd.DataFrame(new_param)\n",
        "  new['T2M'] = new_param[0]\n",
        "  new['RH2M'] = new_param[2]\n",
        "  new['PREC'] = new_param[3]\n",
        "  new['PAR'] = new_param[1]\n",
        "  new['District_Name'] = le2.fit_transform(new['District_Name'])\n",
        "  return new"
      ],
      "id": "8BTV6Jb7CVic"
    },
    {
      "cell_type": "code",
      "execution_count": null,
      "metadata": {
        "id": "j6dC3IvGM3Vf"
      },
      "outputs": [],
      "source": [
        "def getPred (months):\n",
        "  prediction = pd.DataFrame()\n",
        "  prediction['District'] = df_crop['District'].unique()\n",
        "  # prediction['Crop'] = clf.predict(new)\n",
        "  prediction['Crop'] = best_model.predict(getParam(months))\n",
        "  prediction['Crop'] = [le3.classes_[int(i)] for i in prediction['Crop']]\n",
        "  return prediction"
      ],
      "id": "j6dC3IvGM3Vf"
    },
    {
      "cell_type": "code",
      "execution_count": null,
      "metadata": {
        "colab": {
          "base_uri": "https://localhost:8080/"
        },
        "id": "ty3ws_31InQG",
        "outputId": "9652f620-41da-4160-ca42-b36c321b9378"
      },
      "outputs": [
        {
          "output_type": "stream",
          "name": "stderr",
          "text": [
            "/usr/local/lib/python3.10/dist-packages/sklearn/base.py:439: UserWarning: X does not have valid feature names, but DecisionTreeClassifier was fitted with feature names\n",
            "  warnings.warn(\n"
          ]
        },
        {
          "output_type": "execute_result",
          "data": {
            "text/plain": [
              "array([6, 6])"
            ]
          },
          "metadata": {},
          "execution_count": 58
        }
      ],
      "source": [
        "clf.predict([[1,2023,100,91020,331434,28.17,72.19,3.19,104.02],[1,2023,100,95739,378628,27.90,76.38,3.91,97.98]])"
      ],
      "id": "ty3ws_31InQG"
    },
    {
      "cell_type": "markdown",
      "metadata": {
        "id": "3IJNqQYeWatx"
      },
      "source": [
        "# ***Map coloring***"
      ],
      "id": "3IJNqQYeWatx"
    },
    {
      "cell_type": "code",
      "execution_count": null,
      "metadata": {
        "id": "NtduMKTXZaKQ"
      },
      "outputs": [],
      "source": [
        "def getMap (months):\n",
        "  gdf_pred=pd.merge(getPred(months),gdf_districts,on='District',how='outer')\n",
        "\n",
        "  # Define a list of categorical colors\n",
        "  colors = plt.cm.tab20.colors\n",
        "\n",
        "  # Select a random subset of colors\n",
        "  n_colors = len(gdf_pred['Crop'].dropna().unique())\n",
        "  random_color_indices = np.random.choice(range(len(colors)), n_colors, replace=False)\n",
        "  random_colors = [colors[i] for i in random_color_indices]\n",
        "\n",
        "  # Plot the data using a categorical color map\n",
        "  ax = gpd.GeoDataFrame(gdf_pred, geometry='geometry').plot(column='Crop', categorical=True, legend=True,\n",
        "                                                            cmap=plt.cm.colors.ListedColormap(random_colors),\n",
        "                                                            edgecolor='k', figsize=(70, 15))\n",
        "  ax.set_title(f\"Crop Prediction Map for {str(dateAfterMonths(months))}\")\n",
        "  # plt.show()\n",
        "  return ax"
      ],
      "id": "NtduMKTXZaKQ"
    },
    {
      "cell_type": "code",
      "execution_count": null,
      "metadata": {
        "id": "_9ghhUhHIpSo"
      },
      "outputs": [],
      "source": [
        "getMap(3)"
      ],
      "id": "_9ghhUhHIpSo"
    },
    {
      "cell_type": "markdown",
      "metadata": {
        "id": "_y3QMjh9ViJQ"
      },
      "source": [
        "#SHINY UI"
      ],
      "id": "_y3QMjh9ViJQ"
    },
    {
      "cell_type": "code",
      "execution_count": null,
      "metadata": {
        "id": "WaNc26asVg1O"
      },
      "outputs": [],
      "source": [
        "# !pip install shiny\n",
        "from shiny import App, render, ui\n",
        "import matplotlib.pyplot as plt\n",
        "import numpy as np\n",
        "\n",
        "app_ui = ui.page_fluid(\n",
        "    ui.panel_title(\"Simulate a normal distribution\"),\n",
        "\n",
        "    ui.layout_sidebar(\n",
        "\n",
        "      ui.panel_sidebar(\n",
        "        ui.input_numeric(\"monthip\", \"Months After\", 1),\n",
        "      ),\n",
        "\n",
        "      ui.panel_main(\n",
        "        ui.output_plot(\"plot\")\n",
        "      ),\n",
        "    ),\n",
        ")\n",
        "\n",
        "def server(input, output, session):\n",
        "\n",
        "    @output\n",
        "    @render.plot\n",
        "    def plot() -> object:\n",
        "        ax = getMap(input.monthip())\n",
        "        return ax\n",
        "\n",
        "app = App(app_ui, server)"
      ],
      "id": "WaNc26asVg1O"
    }
  ],
  "metadata": {
    "colab": {
      "provenance": [],
      "include_colab_link": true
    },
    "kernelspec": {
      "display_name": "Python 3",
      "language": "python",
      "name": "python3"
    },
    "language_info": {
      "codemirror_mode": {
        "name": "ipython",
        "version": 3
      },
      "file_extension": ".py",
      "mimetype": "text/x-python",
      "name": "python",
      "nbconvert_exporter": "python",
      "pygments_lexer": "ipython3",
      "version": "3.7.10"
    },
    "papermill": {
      "default_parameters": {},
      "duration": 16.839629,
      "end_time": "2021-09-19T16:40:04.695139",
      "environment_variables": {},
      "exception": null,
      "input_path": "__notebook__.ipynb",
      "output_path": "__notebook__.ipynb",
      "parameters": {},
      "start_time": "2021-09-19T16:39:47.855510",
      "version": "2.3.3"
    }
  },
  "nbformat": 4,
  "nbformat_minor": 5
}